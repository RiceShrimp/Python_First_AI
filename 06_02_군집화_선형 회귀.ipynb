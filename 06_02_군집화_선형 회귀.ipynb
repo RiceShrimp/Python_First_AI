{
 "cells": [
  {
   "cell_type": "code",
   "execution_count": 1,
   "metadata": {},
   "outputs": [
    {
     "name": "stderr",
     "output_type": "stream",
     "text": [
      "Using TensorFlow backend.\n"
     ]
    }
   ],
   "source": [
    "from keras import optimizers\n",
    "from keras.models import Sequential\n",
    "from keras.layers import Dense\n",
    "import numpy as np\n",
    "import matplotlib.pyplot as plt\n",
    "%matplotlib inline"
   ]
  },
  {
   "cell_type": "code",
   "execution_count": 2,
   "metadata": {},
   "outputs": [],
   "source": [
    "plt.style.use('default')"
   ]
  },
  {
   "cell_type": "code",
   "execution_count": 23,
   "metadata": {},
   "outputs": [],
   "source": [
    "X = np.linspace(0, 10, 10)\n",
    "Y = X + np.random.randn(*X.shape)"
   ]
  },
  {
   "cell_type": "code",
   "execution_count": 24,
   "metadata": {},
   "outputs": [
    {
     "name": "stdout",
     "output_type": "stream",
     "text": [
      "(0.0, -0.1)\n",
      "(1.1, 0.3)\n",
      "(2.2, 2.6)\n",
      "(3.3, 2.5)\n",
      "(4.4, 3.1)\n",
      "(5.6, 7.0)\n",
      "(6.7, 7.0)\n",
      "(7.8, 10.3)\n",
      "(8.9, 8.9)\n",
      "(10.0, 11.4)\n"
     ]
    }
   ],
   "source": [
    "for x, y in zip(X,Y):\n",
    "    print((round(x,1), round(y,1)))"
   ]
  },
  {
   "cell_type": "code",
   "execution_count": 5,
   "metadata": {},
   "outputs": [
    {
     "name": "stdout",
     "output_type": "stream",
     "text": [
      "(0.0, -1.9)\n",
      "(1.1, 1.0)\n",
      "(2.2, 2.2)\n",
      "(3.3, 1.1)\n",
      "(4.4, 4.0)\n",
      "(5.6, 7.0)\n",
      "(6.7, 6.7)\n",
      "(7.8, 9.4)\n",
      "(8.9, 9.1)\n",
      "(10.0, 12.1)\n"
     ]
    }
   ],
   "source": [
    "for x, y in zip(x, y):\n",
    "    print((round(x, 1), round(y, 1)))"
   ]
  },
  {
   "cell_type": "code",
   "execution_count": 25,
   "metadata": {},
   "outputs": [],
   "source": [
    "model = Sequential()\n",
    "model.add(Dense(input_dim=1, units=1, activation=\"linear\", use_bias=False))"
   ]
  },
  {
   "cell_type": "code",
   "execution_count": 27,
   "metadata": {},
   "outputs": [],
   "source": [
    "sgd = optimizers.SGD(lr=0.05)\n",
    "model.compile(optimizer='sgd', loss='mse')"
   ]
  },
  {
   "cell_type": "code",
   "execution_count": 28,
   "metadata": {},
   "outputs": [
    {
     "name": "stdout",
     "output_type": "stream",
     "text": [
      "initial w is : -1.0959454\n"
     ]
    }
   ],
   "source": [
    "weights = model.layers[0].get_weights()\n",
    "w = weights[0][0][0]\n",
    "\n",
    "print('initial w is : ' + str(w))"
   ]
  },
  {
   "cell_type": "code",
   "execution_count": 29,
   "metadata": {},
   "outputs": [
    {
     "name": "stdout",
     "output_type": "stream",
     "text": [
      "Epoch 1/10\n",
      "10/10 [==============================] - 0s 27ms/step - loss: 170.4746\n",
      "Epoch 2/10\n",
      "10/10 [==============================] - 0s 321us/step - loss: 15.9124\n",
      "Epoch 3/10\n",
      "10/10 [==============================] - 0s 225us/step - loss: 2.3431\n",
      "Epoch 4/10\n",
      "10/10 [==============================] - 0s 299us/step - loss: 1.1518\n",
      "Epoch 5/10\n",
      "10/10 [==============================] - 0s 336us/step - loss: 1.0473\n",
      "Epoch 6/10\n",
      "10/10 [==============================] - 0s 299us/step - loss: 1.0381\n",
      "Epoch 7/10\n",
      "10/10 [==============================] - 0s 368us/step - loss: 1.0373\n",
      "Epoch 8/10\n",
      "10/10 [==============================] - 0s 299us/step - loss: 1.0372\n",
      "Epoch 9/10\n",
      "10/10 [==============================] - 0s 300us/step - loss: 1.0372\n",
      "Epoch 10/10\n",
      "10/10 [==============================] - 0s 268us/step - loss: 1.0372\n"
     ]
    },
    {
     "data": {
      "text/plain": [
       "<keras.callbacks.History at 0x22f082daba8>"
      ]
     },
     "execution_count": 29,
     "metadata": {},
     "output_type": "execute_result"
    }
   ],
   "source": [
    "model.fit(X, Y, batch_size=10,epochs=10, verbose=1)"
   ]
  },
  {
   "cell_type": "code",
   "execution_count": 31,
   "metadata": {},
   "outputs": [
    {
     "name": "stdout",
     "output_type": "stream",
     "text": [
      "trained w is : 1.0984883\n"
     ]
    }
   ],
   "source": [
    "weights = model.layers[0].get_weights()\n",
    "w = weights[0][0][0]\n",
    "\n",
    "print('trained w is : ' + str(w))"
   ]
  },
  {
   "cell_type": "code",
   "execution_count": 32,
   "metadata": {},
   "outputs": [
    {
     "data": {
      "image/png": "[encoded data removed]",
      "text/plain": [
       "<Figure size 640x480 with 1 Axes>"
      ]
     },
     "metadata": {},
     "output_type": "display_data"
    }
   ],
   "source": [
    "plt.plot(X, Y, label='data')\n",
    "plt.plot(X, w*X, label='prediction')\n",
    "plt.legend()\n",
    "plt.show()"
   ]
  }
 ],
 "metadata": {
  "kernelspec": {
   "display_name": "Python 3",
   "language": "python",
   "name": "python3"
  },
  "language_info": {
   "codemirror_mode": {
    "name": "ipython",
    "version": 3
   },
   "file_extension": ".py",
   "mimetype": "text/x-python",
   "name": "python",
   "nbconvert_exporter": "python",
   "pygments_lexer": "ipython3",
   "version": "3.7.3"
  }
 },
 "nbformat": 4,
 "nbformat_minor": 2
}
