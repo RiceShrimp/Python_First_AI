{
 "cells": [
  {
   "cell_type": "code",
   "execution_count": 1,
   "metadata": {},
   "outputs": [],
   "source": [
    "import tensorflow as tf"
   ]
  },
  {
   "cell_type": "code",
   "execution_count": 2,
   "metadata": {},
   "outputs": [],
   "source": [
    "x = tf.placeholder(tf.float32, shape= [4, 2])\n",
    "y = tf.placeholder(tf.float32, shape= [4, 1])"
   ]
  },
  {
   "cell_type": "code",
   "execution_count": 3,
   "metadata": {},
   "outputs": [],
   "source": [
    "w1 = tf.Variable(tf.random_uniform([2, 2]))\n",
    "b1 = tf.Variable(tf.zeros([2]))\n",
    "z = tf.sigmoid(tf.matmul(x, w1) + b1)"
   ]
  },
  {
   "cell_type": "code",
   "execution_count": 4,
   "metadata": {},
   "outputs": [],
   "source": [
    "w2 = tf.Variable(tf.random_uniform([2, 1]))\n",
    "b2 = tf.Variable(tf.zeros([1]))\n",
    "y_hat = tf.sigmoid(tf.matmul(z, w2) + b2)"
   ]
  },
  {
   "cell_type": "code",
   "execution_count": 5,
   "metadata": {},
   "outputs": [],
   "source": [
    "loss = tf.reduce_mean(-1 * ((y * tf.log(y_hat)) + ((1-y) * tf.log(1.0 - y_hat))))"
   ]
  },
  {
   "cell_type": "code",
   "execution_count": 6,
   "metadata": {},
   "outputs": [],
   "source": [
    "train_step = tf.train.GradientDescentOptimizer(0.05).minimize(loss)"
   ]
  },
  {
   "cell_type": "code",
   "execution_count": 7,
   "metadata": {},
   "outputs": [],
   "source": [
    "train_x = [[0, 0], [0, 1], [1, 0], [1, 1]]\n",
    "train_y = [[0], [1], [1], [0]]"
   ]
  },
  {
   "cell_type": "code",
   "execution_count": 8,
   "metadata": {},
   "outputs": [],
   "source": [
    "init = tf.global_variables_initializer()"
   ]
  },
  {
   "cell_type": "code",
   "execution_count": 9,
   "metadata": {},
   "outputs": [
    {
     "name": "stdout",
     "output_type": "stream",
     "text": [
      "train data:  [[0, 0], [0, 1], [1, 0], [1, 1]]\n",
      "Epoch :  0\n",
      "Output : \n",
      " [[0.60074294]\n",
      " [0.6037573 ]\n",
      " [0.6404545 ]\n",
      " [0.64284253]]\n",
      "Epoch :  5000\n",
      "Output : \n",
      " [[0.38699776]\n",
      " [0.54069513]\n",
      " [0.54033864]\n",
      " [0.5658337 ]]\n",
      "Epoch :  10000\n",
      "Output : \n",
      " [[0.09847254]\n",
      " [0.88303936]\n",
      " [0.8831552 ]\n",
      " [0.15737537]]\n",
      "Epoch :  15000\n",
      "Output : \n",
      " [[0.0360429 ]\n",
      " [0.96930027]\n",
      " [0.9693252 ]\n",
      " [0.03551123]]\n",
      "Fianl Output :  [[0.02123436]\n",
      " [0.9832368 ]\n",
      " [0.98324704]\n",
      " [0.01857951]]\n"
     ]
    }
   ],
   "source": [
    "with tf.Session() as sess:\n",
    "    sess.run(init)\n",
    "    print('train data: ', str(train_x))\n",
    "    \n",
    "    for i in range(20000):\n",
    "        sess.run(train_step, feed_dict= {x: train_x, y: train_y})\n",
    "        if i % 5000 == 0:\n",
    "            print('Epoch : ', i)\n",
    "            print('Output : \\n', sess.run(y_hat, feed_dict= {x: train_x, y: train_y}))\n",
    "    print('Fianl Output : ', sess.run(y_hat, feed_dict= {x: train_x, y: train_y}))"
   ]
  }
 ],
 "metadata": {
  "kernelspec": {
   "display_name": "Python 3",
   "language": "python",
   "name": "python3"
  },
  "language_info": {
   "codemirror_mode": {
    "name": "ipython",
    "version": 3
   },
   "file_extension": ".py",
   "mimetype": "text/x-python",
   "name": "python",
   "nbconvert_exporter": "python",
   "pygments_lexer": "ipython3",
   "version": "3.7.3"
  }
 },
 "nbformat": 4,
 "nbformat_minor": 2
}
