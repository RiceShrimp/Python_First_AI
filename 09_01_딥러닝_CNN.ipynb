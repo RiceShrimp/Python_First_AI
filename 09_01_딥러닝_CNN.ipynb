{
 "cells": [
  {
   "cell_type": "code",
   "execution_count": 1,
   "metadata": {},
   "outputs": [],
   "source": [
    "import tensorflow as tf"
   ]
  },
  {
   "cell_type": "code",
   "execution_count": 2,
   "metadata": {},
   "outputs": [],
   "source": [
    "(x_train, y_train), (x_test, y_test) = tf.keras.datasets.mnist.load_data()"
   ]
  },
  {
   "cell_type": "code",
   "execution_count": 3,
   "metadata": {},
   "outputs": [
    {
     "name": "stdout",
     "output_type": "stream",
     "text": [
      "train data has  50000 samples\n",
      "every train data is  28 * 28 image\n"
     ]
    }
   ],
   "source": [
    "x_val = x_train[50000: 60000]\n",
    "x_train = x_train[: 50000]\n",
    "y_val = y_train[50000: 60000]\n",
    "y_train = y_train[: 50000]\n",
    "print('train data has ', str(x_train.shape[0]), 'samples')\n",
    "print('every train data is ', str(x_train.shape[1]), '*', str(x_train.shape[2]), 'image')"
   ]
  },
  {
   "cell_type": "code",
   "execution_count": 4,
   "metadata": {},
   "outputs": [
    {
     "name": "stdout",
     "output_type": "stream",
     "text": [
      "validation data has  10000 samples\n",
      "every train data is  28 * 28 image\n"
     ]
    }
   ],
   "source": [
    "print('validation data has ', str(x_val.shape[0]), 'samples')\n",
    "print('every train data is ', str(x_val.shape[1]), '*', str(x_val.shape[2]), 'image')"
   ]
  },
  {
   "cell_type": "code",
   "execution_count": 5,
   "metadata": {},
   "outputs": [],
   "source": [
    "import numpy as np"
   ]
  },
  {
   "cell_type": "code",
   "execution_count": 6,
   "metadata": {},
   "outputs": [
    {
     "name": "stdout",
     "output_type": "stream",
     "text": [
      "(50000, 28, 28, 1)\n"
     ]
    }
   ],
   "source": [
    "x_train = np.reshape(x_train, (50000, 28, 28, 1))\n",
    "x_val = np.reshape(x_val, (10000, 28, 28, 1))\n",
    "x_test = np.reshape(x_test, (10000, 28, 28, 1))\n",
    "\n",
    "print(x_train.shape)"
   ]
  },
  {
   "cell_type": "code",
   "execution_count": 7,
   "metadata": {},
   "outputs": [
    {
     "name": "stdout",
     "output_type": "stream",
     "text": [
      "(10000, 28, 28, 1)\n"
     ]
    }
   ],
   "source": [
    "print(x_test.shape)"
   ]
  },
  {
   "cell_type": "code",
   "execution_count": 8,
   "metadata": {},
   "outputs": [],
   "source": [
    "x_train = x_train.astype('float32')\n",
    "x_val = x_val.astype('float32')\n",
    "x_test = x_test.astype('float32')\n",
    "gray_scale = 255\n",
    "x_train /= gray_scale\n",
    "x_val /= gray_scale\n",
    "x_test /= gray_scale"
   ]
  },
  {
   "cell_type": "code",
   "execution_count": 9,
   "metadata": {},
   "outputs": [],
   "source": [
    "num_classes = 10\n",
    "y_train = tf.keras.utils.to_categorical(y_train, num_classes)\n",
    "y_val = tf.keras.utils.to_categorical(y_val, num_classes)\n",
    "y_test = tf.keras.utils.to_categorical(y_test, num_classes)"
   ]
  },
  {
   "cell_type": "code",
   "execution_count": 10,
   "metadata": {},
   "outputs": [],
   "source": [
    "x = tf.placeholder(tf.float32, shape= [None, 28, 28, 1])\n",
    "y_ = tf.placeholder(tf.float32, shape= [None, 10])"
   ]
  },
  {
   "cell_type": "code",
   "execution_count": 11,
   "metadata": {},
   "outputs": [],
   "source": [
    "def weight_variable(shape):\n",
    "    initial = tf.truncated_normal(shape, stddev= 0.1)\n",
    "    return tf.Variable(initial)"
   ]
  },
  {
   "cell_type": "code",
   "execution_count": 12,
   "metadata": {},
   "outputs": [],
   "source": [
    "def bias_variable(shape):\n",
    "    initial = tf.constant(0.1, shape= shape)\n",
    "    return tf.Variable(initial)"
   ]
  },
  {
   "cell_type": "code",
   "execution_count": 13,
   "metadata": {},
   "outputs": [],
   "source": [
    "def conv2d(x, w):\n",
    "    return tf.nn.conv2d(x, w, strides= [1, 1, 1, 1], padding= 'SAME')"
   ]
  },
  {
   "cell_type": "code",
   "execution_count": 14,
   "metadata": {},
   "outputs": [],
   "source": [
    "def max_pool_2x2(x):\n",
    "    return tf.nn.max_pool(x, ksize= [1, 2, 2, 1], strides= [1, 2, 2, 1], padding= 'SAME')"
   ]
  },
  {
   "cell_type": "code",
   "execution_count": 15,
   "metadata": {},
   "outputs": [],
   "source": [
    "w_conv1 = weight_variable([5, 5, 1, 16])\n",
    "b_conv1 = bias_variable([16])"
   ]
  },
  {
   "cell_type": "code",
   "execution_count": 16,
   "metadata": {},
   "outputs": [],
   "source": [
    "h_conv1 = tf.nn.relu(conv2d(x, w_conv1) + b_conv1)"
   ]
  },
  {
   "cell_type": "code",
   "execution_count": 17,
   "metadata": {},
   "outputs": [],
   "source": [
    "h_pool1 = max_pool_2x2(h_conv1)"
   ]
  },
  {
   "cell_type": "code",
   "execution_count": 18,
   "metadata": {},
   "outputs": [],
   "source": [
    "w_conv2 = weight_variable([5, 5, 16, 32])\n",
    "b_conv2 = bias_variable([32])\n",
    "h_conv2 = tf.nn.relu(conv2d(h_pool1, w_conv2) + b_conv2)\n",
    "h_pool2 = max_pool_2x2(h_conv2)"
   ]
  },
  {
   "cell_type": "code",
   "execution_count": 19,
   "metadata": {},
   "outputs": [],
   "source": [
    "w_fc1 = weight_variable([7 * 7 * 32, 128])\n",
    "b_fc1 = bias_variable([128])\n",
    "\n",
    "h_pool2_flat = tf.reshape(h_pool2, [-1, 7 * 7 * 32])\n",
    "h_fc1 = tf.nn.relu(tf.matmul(h_pool2_flat, w_fc1) + b_fc1)"
   ]
  },
  {
   "cell_type": "code",
   "execution_count": 20,
   "metadata": {},
   "outputs": [],
   "source": [
    "w_fc2 = weight_variable([128, 10])\n",
    "b_fc2 = bias_variable([10])\n",
    "y_conv = tf.matmul(h_fc1, w_fc2) + b_fc2"
   ]
  },
  {
   "cell_type": "code",
   "execution_count": 21,
   "metadata": {},
   "outputs": [],
   "source": [
    "cross_entropy = tf.reduce_mean(\n",
    "tf.nn.softmax_cross_entropy_with_logits_v2(labels= y_, logits= y_conv))"
   ]
  },
  {
   "cell_type": "code",
   "execution_count": 22,
   "metadata": {},
   "outputs": [],
   "source": [
    "train_step = tf.train.AdamOptimizer(0.001).minimize(cross_entropy)"
   ]
  },
  {
   "cell_type": "code",
   "execution_count": 23,
   "metadata": {},
   "outputs": [],
   "source": [
    "correct_prediction = tf.equal(tf.argmax(y_conv, 1), tf.argmax(y_, 1))\n",
    "accuracy = tf.reduce_mean(tf.cast(correct_prediction, tf.float32))"
   ]
  },
  {
   "cell_type": "code",
   "execution_count": 24,
   "metadata": {},
   "outputs": [
    {
     "name": "stdout",
     "output_type": "stream",
     "text": [
      "step  0 : train acc:  0.084\n",
      "validation accuracy:  0.132\n",
      "validation accuracy:  0.334\n",
      "validation accuracy:  0.362\n",
      "validation accuracy:  0.456\n",
      "validation accuracy:  0.58\n",
      "validation accuracy:  0.672\n",
      "validation accuracy:  0.688\n",
      "validation accuracy:  0.67\n",
      "validation accuracy:  0.664\n",
      "validation accuracy:  0.756\n",
      "step  10 : train acc:  0.698\n",
      "validation accuracy:  0.786\n",
      "validation accuracy:  0.792\n",
      "validation accuracy:  0.81\n",
      "validation accuracy:  0.84\n",
      "validation accuracy:  0.816\n",
      "validation accuracy:  0.888\n",
      "validation accuracy:  0.89\n",
      "validation accuracy:  0.886\n",
      "validation accuracy:  0.89\n",
      "validation accuracy:  nan\n",
      "step  20 : train acc:  0.846\n",
      "validation accuracy:  nan\n",
      "validation accuracy:  nan\n",
      "validation accuracy:  nan\n",
      "validation accuracy:  nan\n",
      "validation accuracy:  nan\n",
      "validation accuracy:  nan\n",
      "validation accuracy:  nan\n",
      "validation accuracy:  nan\n",
      "validation accuracy:  nan\n",
      "validation accuracy:  nan\n",
      "step  30 : train acc:  0.87\n",
      "validation accuracy:  nan\n",
      "validation accuracy:  nan\n",
      "validation accuracy:  nan\n",
      "validation accuracy:  nan\n",
      "validation accuracy:  nan\n",
      "validation accuracy:  nan\n",
      "validation accuracy:  nan\n",
      "validation accuracy:  nan\n",
      "validation accuracy:  nan\n",
      "validation accuracy:  nan\n",
      "step  40 : train acc:  0.904\n",
      "validation accuracy:  nan\n",
      "validation accuracy:  nan\n",
      "validation accuracy:  nan\n",
      "validation accuracy:  nan\n",
      "validation accuracy:  nan\n",
      "validation accuracy:  nan\n",
      "validation accuracy:  nan\n",
      "validation accuracy:  nan\n",
      "validation accuracy:  nan\n",
      "validation accuracy:  nan\n",
      "step  50 : train acc:  0.892\n",
      "validation accuracy:  nan\n",
      "validation accuracy:  nan\n",
      "validation accuracy:  nan\n",
      "validation accuracy:  nan\n",
      "validation accuracy:  nan\n",
      "validation accuracy:  nan\n",
      "validation accuracy:  nan\n",
      "validation accuracy:  nan\n",
      "validation accuracy:  nan\n",
      "validation accuracy:  nan\n",
      "step  60 : train acc:  0.928\n",
      "validation accuracy:  nan\n",
      "validation accuracy:  nan\n",
      "validation accuracy:  nan\n",
      "validation accuracy:  nan\n",
      "validation accuracy:  nan\n",
      "validation accuracy:  nan\n",
      "validation accuracy:  nan\n",
      "validation accuracy:  nan\n",
      "validation accuracy:  nan\n",
      "validation accuracy:  nan\n",
      "step  70 : train acc:  0.942\n",
      "validation accuracy:  nan\n",
      "validation accuracy:  nan\n",
      "validation accuracy:  nan\n",
      "validation accuracy:  nan\n",
      "validation accuracy:  nan\n",
      "validation accuracy:  nan\n",
      "validation accuracy:  nan\n",
      "validation accuracy:  nan\n",
      "validation accuracy:  nan\n",
      "validation accuracy:  nan\n",
      "step  80 : train acc:  0.942\n",
      "validation accuracy:  nan\n",
      "validation accuracy:  nan\n",
      "validation accuracy:  nan\n",
      "validation accuracy:  nan\n",
      "validation accuracy:  nan\n",
      "validation accuracy:  nan\n",
      "validation accuracy:  nan\n",
      "validation accuracy:  nan\n",
      "validation accuracy:  nan\n",
      "validation accuracy:  nan\n",
      "step  90 : train acc:  0.934\n",
      "validation accuracy:  nan\n",
      "validation accuracy:  nan\n",
      "validation accuracy:  nan\n",
      "validation accuracy:  nan\n",
      "validation accuracy:  nan\n",
      "validation accuracy:  nan\n",
      "validation accuracy:  nan\n",
      "validation accuracy:  nan\n",
      "validation accuracy:  nan\n",
      "validation accuracy:  nan\n",
      "test accuracy:  0.9467\n",
      "step  0 : train acc:  0.942\n",
      "validation accuracy:  0.95\n",
      "validation accuracy:  0.948\n",
      "validation accuracy:  0.96\n",
      "validation accuracy:  0.94\n",
      "validation accuracy:  0.928\n",
      "validation accuracy:  0.944\n",
      "validation accuracy:  0.928\n",
      "validation accuracy:  0.968\n",
      "validation accuracy:  0.948\n",
      "validation accuracy:  0.95\n",
      "step  10 : train acc:  0.958\n",
      "validation accuracy:  0.958\n",
      "validation accuracy:  0.944\n",
      "validation accuracy:  0.96\n",
      "validation accuracy:  0.966\n",
      "validation accuracy:  0.926\n",
      "validation accuracy:  0.97\n",
      "validation accuracy:  0.97\n",
      "validation accuracy:  0.962\n",
      "validation accuracy:  0.966\n",
      "validation accuracy:  nan\n",
      "step  20 : train acc:  0.936\n",
      "validation accuracy:  nan\n",
      "validation accuracy:  nan\n",
      "validation accuracy:  nan\n",
      "validation accuracy:  nan\n",
      "validation accuracy:  nan\n",
      "validation accuracy:  nan\n",
      "validation accuracy:  nan\n",
      "validation accuracy:  nan\n",
      "validation accuracy:  nan\n",
      "validation accuracy:  nan\n",
      "step  30 : train acc:  0.946\n",
      "validation accuracy:  nan\n",
      "validation accuracy:  nan\n",
      "validation accuracy:  nan\n",
      "validation accuracy:  nan\n",
      "validation accuracy:  nan\n",
      "validation accuracy:  nan\n",
      "validation accuracy:  nan\n",
      "validation accuracy:  nan\n",
      "validation accuracy:  nan\n",
      "validation accuracy:  nan\n",
      "step  40 : train acc:  0.956\n",
      "validation accuracy:  nan\n",
      "validation accuracy:  nan\n",
      "validation accuracy:  nan\n",
      "validation accuracy:  nan\n",
      "validation accuracy:  nan\n",
      "validation accuracy:  nan\n",
      "validation accuracy:  nan\n",
      "validation accuracy:  nan\n",
      "validation accuracy:  nan\n",
      "validation accuracy:  nan\n",
      "step  50 : train acc:  0.968\n",
      "validation accuracy:  nan\n",
      "validation accuracy:  nan\n",
      "validation accuracy:  nan\n",
      "validation accuracy:  nan\n",
      "validation accuracy:  nan\n",
      "validation accuracy:  nan\n",
      "validation accuracy:  nan\n",
      "validation accuracy:  nan\n",
      "validation accuracy:  nan\n",
      "validation accuracy:  nan\n",
      "step  60 : train acc:  0.97\n",
      "validation accuracy:  nan\n",
      "validation accuracy:  nan\n",
      "validation accuracy:  nan\n",
      "validation accuracy:  nan\n",
      "validation accuracy:  nan\n",
      "validation accuracy:  nan\n",
      "validation accuracy:  nan\n",
      "validation accuracy:  nan\n",
      "validation accuracy:  nan\n",
      "validation accuracy:  nan\n",
      "step  70 : train acc:  0.966\n",
      "validation accuracy:  nan\n",
      "validation accuracy:  nan\n",
      "validation accuracy:  nan\n",
      "validation accuracy:  nan\n",
      "validation accuracy:  nan\n",
      "validation accuracy:  nan\n",
      "validation accuracy:  nan\n",
      "validation accuracy:  nan\n",
      "validation accuracy:  nan\n",
      "validation accuracy:  nan\n",
      "step  80 : train acc:  0.976\n",
      "validation accuracy:  nan\n",
      "validation accuracy:  nan\n",
      "validation accuracy:  nan\n",
      "validation accuracy:  nan\n",
      "validation accuracy:  nan\n",
      "validation accuracy:  nan\n",
      "validation accuracy:  nan\n",
      "validation accuracy:  nan\n",
      "validation accuracy:  nan\n",
      "validation accuracy:  nan\n",
      "step  90 : train acc:  0.962\n",
      "validation accuracy:  nan\n",
      "validation accuracy:  nan\n",
      "validation accuracy:  nan\n",
      "validation accuracy:  nan\n",
      "validation accuracy:  nan\n",
      "validation accuracy:  nan\n",
      "validation accuracy:  nan\n",
      "validation accuracy:  nan\n",
      "validation accuracy:  nan\n",
      "validation accuracy:  nan\n",
      "test accuracy:  0.9691\n",
      "step  0 : train acc:  0.966\n",
      "validation accuracy:  0.97\n",
      "validation accuracy:  0.976\n",
      "validation accuracy:  0.966\n",
      "validation accuracy:  0.966\n",
      "validation accuracy:  0.952\n",
      "validation accuracy:  0.972\n",
      "validation accuracy:  0.958\n",
      "validation accuracy:  0.982\n",
      "validation accuracy:  0.968\n",
      "validation accuracy:  0.968\n",
      "step  10 : train acc:  0.978\n",
      "validation accuracy:  0.968\n",
      "validation accuracy:  0.968\n",
      "validation accuracy:  0.974\n",
      "validation accuracy:  0.97\n",
      "validation accuracy:  0.958\n",
      "validation accuracy:  0.986\n",
      "validation accuracy:  0.984\n",
      "validation accuracy:  0.988\n",
      "validation accuracy:  0.976\n",
      "validation accuracy:  nan\n",
      "step  20 : train acc:  0.962\n",
      "validation accuracy:  nan\n",
      "validation accuracy:  nan\n",
      "validation accuracy:  nan\n",
      "validation accuracy:  nan\n",
      "validation accuracy:  nan\n",
      "validation accuracy:  nan\n",
      "validation accuracy:  nan\n",
      "validation accuracy:  nan\n",
      "validation accuracy:  nan\n",
      "validation accuracy:  nan\n",
      "step  30 : train acc:  0.966\n",
      "validation accuracy:  nan\n",
      "validation accuracy:  nan\n",
      "validation accuracy:  nan\n",
      "validation accuracy:  nan\n",
      "validation accuracy:  nan\n",
      "validation accuracy:  nan\n",
      "validation accuracy:  nan\n",
      "validation accuracy:  nan\n",
      "validation accuracy:  nan\n",
      "validation accuracy:  nan\n",
      "step  40 : train acc:  0.976\n",
      "validation accuracy:  nan\n",
      "validation accuracy:  nan\n",
      "validation accuracy:  nan\n",
      "validation accuracy:  nan\n",
      "validation accuracy:  nan\n",
      "validation accuracy:  nan\n",
      "validation accuracy:  nan\n",
      "validation accuracy:  nan\n",
      "validation accuracy:  nan\n",
      "validation accuracy:  nan\n",
      "step  50 : train acc:  0.978\n",
      "validation accuracy:  nan\n",
      "validation accuracy:  nan\n",
      "validation accuracy:  nan\n",
      "validation accuracy:  nan\n",
      "validation accuracy:  nan\n",
      "validation accuracy:  nan\n",
      "validation accuracy:  nan\n",
      "validation accuracy:  nan\n",
      "validation accuracy:  nan\n",
      "validation accuracy:  nan\n",
      "step  60 : train acc:  0.978\n",
      "validation accuracy:  nan\n",
      "validation accuracy:  nan\n",
      "validation accuracy:  nan\n",
      "validation accuracy:  nan\n",
      "validation accuracy:  nan\n",
      "validation accuracy:  nan\n",
      "validation accuracy:  nan\n",
      "validation accuracy:  nan\n",
      "validation accuracy:  nan\n",
      "validation accuracy:  nan\n",
      "step  70 : train acc:  0.968\n",
      "validation accuracy:  nan\n",
      "validation accuracy:  nan\n",
      "validation accuracy:  nan\n",
      "validation accuracy:  nan\n",
      "validation accuracy:  nan\n",
      "validation accuracy:  nan\n",
      "validation accuracy:  nan\n",
      "validation accuracy:  nan\n",
      "validation accuracy:  nan\n",
      "validation accuracy:  nan\n",
      "step  80 : train acc:  0.99\n",
      "validation accuracy:  nan\n",
      "validation accuracy:  nan\n",
      "validation accuracy:  nan\n"
     ]
    },
    {
     "name": "stdout",
     "output_type": "stream",
     "text": [
      "validation accuracy:  nan\n",
      "validation accuracy:  nan\n",
      "validation accuracy:  nan\n",
      "validation accuracy:  nan\n",
      "validation accuracy:  nan\n",
      "validation accuracy:  nan\n",
      "validation accuracy:  nan\n",
      "step  90 : train acc:  0.976\n",
      "validation accuracy:  nan\n",
      "validation accuracy:  nan\n",
      "validation accuracy:  nan\n",
      "validation accuracy:  nan\n",
      "validation accuracy:  nan\n",
      "validation accuracy:  nan\n",
      "validation accuracy:  nan\n",
      "validation accuracy:  nan\n",
      "validation accuracy:  nan\n",
      "validation accuracy:  nan\n",
      "test accuracy:  0.9763\n"
     ]
    }
   ],
   "source": [
    "init = tf.global_variables_initializer()\n",
    "\n",
    "epoch_cnt = 3\n",
    "batch_size = 500\n",
    "iteration = len(x_train) //  batch_size\n",
    "\n",
    "with tf.Session() as sess:\n",
    "    tf.set_random_seed(777)\n",
    "    \n",
    "    sess.run(init)\n",
    "    for epoch in range(epoch_cnt):\n",
    "        avg_loss = 0\n",
    "        start = 0\n",
    "        end = batch_size\n",
    "        \n",
    "        for i in range(iteration):\n",
    "            if i % 10 == 0:\n",
    "                train_acc = accuracy.eval(\n",
    "                    feed_dict = {x: x_train[start: end],\n",
    "                                 y_ : y_train[start: end]})\n",
    "                print('step ', str(i), ': train acc: ', str(train_acc))\n",
    "            \n",
    "            train_step.run(\n",
    "                feed_dict = {x: x_train[start: end],\n",
    "                             y_ : y_train[start: end]})\n",
    "            start += batch_size\n",
    "            end += batch_size\n",
    "            \n",
    "            val_accuracy = accuracy.eval(\n",
    "                feed_dict = {x: x_val[start: end],\n",
    "                             y_ : y_val[start: end]})\n",
    "            print('validation accuracy: ', str(val_accuracy))\n",
    "        \n",
    "        test_accuracy = accuracy.eval(\n",
    "            feed_dict = {x: x_test,\n",
    "                         y_ : y_test})\n",
    "        print('test accuracy: ', str(test_accuracy))"
   ]
  }
 ],
 "metadata": {
  "kernelspec": {
   "display_name": "Python 3",
   "language": "python",
   "name": "python3"
  },
  "language_info": {
   "codemirror_mode": {
    "name": "ipython",
    "version": 3
   },
   "file_extension": ".py",
   "mimetype": "text/x-python",
   "name": "python",
   "nbconvert_exporter": "python",
   "pygments_lexer": "ipython3",
   "version": "3.7.3"
  }
 },
 "nbformat": 4,
 "nbformat_minor": 2
}
