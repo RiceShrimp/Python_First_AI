{
 "cells": [
  {
   "cell_type": "markdown",
   "metadata": {},
   "source": [
    "### SVM 최적의 파라미터 찾기\n",
    "SVM의 파라미터는 두가지가 있습니다.\n",
    "\n",
    "C : 비용 (cost), 결정경계선의 마진을 결정하는 파라미터입니다.  \n",
    "  \n",
    "gamma: 커널의 데이터포인트의 표준편차를 결정하는 파라미터입니다.  \n",
    "  \n",
    "결과적으로 C가 클수록, 결정경계선과 서포트 벡터의 간격(마진)이 작아집니다. \n",
    "  \n",
    "결과적으로 gamma가 클수록, 결정경계선이 데이터포인트와 더욱 가까워집니다.  \n",
    "  "
   ]
  },
  {
   "cell_type": "markdown",
   "metadata": {},
   "source": [
    "#### 최적의 SVM 파라미터 찾기"
   ]
  },
  {
   "cell_type": "code",
   "execution_count": 1,
   "metadata": {},
   "outputs": [],
   "source": [
    "import pandas as pd\n",
    "import pickle\n",
    "import matplotlib.pyplot as plt\n",
    "import seaborn as sns\n",
    "%matplotlib inline"
   ]
  },
  {
   "cell_type": "code",
   "execution_count": 6,
   "metadata": {},
   "outputs": [],
   "source": [
    "with open('./data/pkl/basketball_train.pkl', 'rb') as train_data:\n",
    "    train = pickle.load(train_data)\n",
    "    \n",
    "with open('./data/pkl/basketball_test.pkl', 'rb') as test_data:\n",
    "    test = pickle.load(test_data)"
   ]
  },
  {
   "cell_type": "code",
   "execution_count": 2,
   "metadata": {},
   "outputs": [],
   "source": [
    "from sklearn.model_selection import GridSearchCV\n",
    "from sklearn.metrics import classification_report\n",
    "from sklearn.metrics import accuracy_score\n",
    "from sklearn.svm import SVC\n",
    "\n",
    "import numpy as np"
   ]
  },
  {
   "cell_type": "code",
   "execution_count": 4,
   "metadata": {},
   "outputs": [],
   "source": [
    "def svc_param_selection(x, y, nfolds):\n",
    "    svm_parameters = [\n",
    "        {\n",
    "            'kernel' : ['rbf'],\n",
    "            'gamma' : [0.00001, 0.0001, 0.001, 0.01, 0.1, 1],\n",
    "            'C' : [0.01, 0.1, 1, 10, 100, 10000]\n",
    "        }\n",
    "    ]\n",
    "    clf = GridSearchCV\n",
    "    clf = GridSearchCV(SVC(), svm_parameters, cv = 10)\n",
    "    clf.fit(x_train, y_train.values.ravel())\n",
    "    print(clf.best_params_)\n",
    "    \n",
    "    return clf"
   ]
  },
  {
   "cell_type": "code",
   "execution_count": 7,
   "metadata": {},
   "outputs": [],
   "source": [
    "x_train = train[['3P', 'BLK']]\n",
    "y_train = train[['Pos']]"
   ]
  },
  {
   "cell_type": "code",
   "execution_count": 8,
   "metadata": {},
   "outputs": [
    {
     "name": "stdout",
     "output_type": "stream",
     "text": [
      "{'C': 0.1, 'gamma': 1, 'kernel': 'rbf'}\n"
     ]
    },
    {
     "name": "stderr",
     "output_type": "stream",
     "text": [
      "C:\\Users\\Q\\AppData\\Local\\Continuum\\anaconda3\\lib\\site-packages\\sklearn\\model_selection\\_search.py:813: DeprecationWarning: The default of the `iid` parameter will change from True to False in version 0.22 and will be removed in 0.24. This will change numeric results when test-set sizes are unequal.\n",
      "  DeprecationWarning)\n"
     ]
    }
   ],
   "source": [
    "clf = svc_param_selection(x_train, y_train.values.ravel(), 10)"
   ]
  },
  {
   "cell_type": "markdown",
   "metadata": {},
   "source": [
    "####  결정 경계선 시각화"
   ]
  },
  {
   "cell_type": "code",
   "execution_count": 7,
   "metadata": {},
   "outputs": [],
   "source": [
    "C_canditables = []\n",
    "C_canditables.append(clf.best_params_['C'] * 0.01)\n",
    "C_canditables.append(clf.best_params_['C'] )\n",
    "C_canditables.append(clf.best_params_['C'] * 100)"
   ]
  },
  {
   "cell_type": "code",
   "execution_count": 8,
   "metadata": {},
   "outputs": [],
   "source": [
    "gamma_canditables = []\n",
    "gamma_canditables.append(clf.best_params_['C'] * 0.01)\n",
    "gamma_canditables.append(clf.best_params_['C'])\n",
    "gamma_canditables.append(clf.best_params_['C'] * 100)"
   ]
  },
  {
   "cell_type": "code",
   "execution_count": 10,
   "metadata": {},
   "outputs": [],
   "source": [
    "x = train[['3P', 'BLK']]\n",
    "y = train['Pos'].tolist()"
   ]
  },
  {
   "cell_type": "code",
   "execution_count": 11,
   "metadata": {},
   "outputs": [],
   "source": [
    "position = []\n",
    "for gt in y:\n",
    "    if gt == 'C':\n",
    "        position.append(0)\n",
    "    else:\n",
    "        position.append(1)\n",
    "classifiers = []"
   ]
  },
  {
   "cell_type": "code",
   "execution_count": 19,
   "metadata": {},
   "outputs": [],
   "source": [
    "for C in C_canditables:\n",
    "    for gamma in gamma_canditables:\n",
    "        clf = SVC(C = C, gamma= gamma)\n",
    "        clf.fit(x, y)\n",
    "        classifiers.append((C,gamma, clf))\n",
    "plt.figure(figsize=(18, 18))\n",
    "xx, yy = np.meshgrid(np.linspace(0, 4, 100), np.linspace(0, 4, 100))\n",
    "\n",
    "for (k, (C, gamma, clf)) in enumerate(classifiers):\n",
    "    Z = clf.deci\n"
   ]
  },
  {
   "cell_type": "code",
   "execution_count": null,
   "metadata": {},
   "outputs": [],
   "source": []
  }
 ],
 "metadata": {
  "kernelspec": {
   "display_name": "Python 3",
   "language": "python",
   "name": "python3"
  },
  "language_info": {
   "codemirror_mode": {
    "name": "ipython",
    "version": 3
   },
   "file_extension": ".py",
   "mimetype": "text/x-python",
   "name": "python",
   "nbconvert_exporter": "python",
   "pygments_lexer": "ipython3",
   "version": "3.7.3"
  }
 },
 "nbformat": 4,
 "nbformat_minor": 2
}
